{
 "cells": [
  {
   "cell_type": "markdown",
   "metadata": {},
   "source": [
    "## Visualización de predicción del modelo final"
   ]
  },
  {
   "cell_type": "markdown",
   "metadata": {},
   "source": [
    "- [Jorge Esteban Mendoza Ortiz](mailto:esteban.mendoza@ciencias.unam.mx) (418002863)\n",
    "\n",
    "- [Enrique Moctezuma González](mailto:enriquemg@ciencias.unam.mx) (315019344)\n",
    "\n",
    "- [Ana Victoria López Rodríguez](mailto:anaviclopez@ciencias.unam.mx) (314614300) "
   ]
  },
  {
   "cell_type": "code",
   "execution_count": 1,
   "metadata": {
    "collapsed": true,
    "jupyter": {
     "outputs_hidden": true
    }
   },
   "outputs": [
    {
     "name": "stderr",
     "output_type": "stream",
     "text": [
      "Loading required package: tidyverse\n",
      "-- \u001b[1mAttaching packages\u001b[22m --------------------------------------- tidyverse 1.2.1 --\n",
      "\u001b[32mv\u001b[39m \u001b[34mggplot2\u001b[39m 3.2.0     \u001b[32mv\u001b[39m \u001b[34mpurrr  \u001b[39m 0.3.2\n",
      "\u001b[32mv\u001b[39m \u001b[34mtibble \u001b[39m 2.1.3     \u001b[32mv\u001b[39m \u001b[34mdplyr  \u001b[39m 0.8.3\n",
      "\u001b[32mv\u001b[39m \u001b[34mtidyr  \u001b[39m 0.8.3     \u001b[32mv\u001b[39m \u001b[34mstringr\u001b[39m 1.4.0\n",
      "\u001b[32mv\u001b[39m \u001b[34mreadr  \u001b[39m 1.3.1     \u001b[32mv\u001b[39m \u001b[34mforcats\u001b[39m 0.4.0\n",
      "-- \u001b[1mConflicts\u001b[22m ------------------------------------------ tidyverse_conflicts() --\n",
      "\u001b[31mx\u001b[39m \u001b[34mdplyr\u001b[39m::\u001b[32mfilter()\u001b[39m masks \u001b[34mstats\u001b[39m::filter()\n",
      "\u001b[31mx\u001b[39m \u001b[34mdplyr\u001b[39m::\u001b[32mlag()\u001b[39m    masks \u001b[34mstats\u001b[39m::lag()\n",
      "Loading required package: lubridate\n",
      "\n",
      "Attaching package: 'lubridate'\n",
      "\n",
      "The following object is masked from 'package:base':\n",
      "\n",
      "    date\n",
      "\n",
      "Loading required package: repr\n",
      "Loading required package: tikzDevice\n"
     ]
    }
   ],
   "source": [
    "require(tidyverse)\n",
    "require(lubridate)\n",
    "require(repr)\n",
    "require(tikzDevice)"
   ]
  },
  {
   "cell_type": "code",
   "execution_count": 2,
   "metadata": {},
   "outputs": [],
   "source": [
    "# Carga y formato de datos\n",
    "data = read.csv(\"data/infectados.csv\", stringsAsFactors = FALSE) %>%\n",
    "    mutate(fecha = dmy(fecha))\n",
    "\n",
    "original = data %>%\n",
    "    filter(fecha <= dmy(\"14-05-2009\")) %>%\n",
    "    mutate(Datos=\"Originales\")\n",
    "\n",
    "\n",
    "data_sim = read.csv(\"data/simulated_SIR.csv\")\n",
    "names(data_sim) = c(\"t\", \"S\", \"I\", \"R\")\n",
    "\n",
    "simulated = data_sim %>%\n",
    "    select(t, I) %>%\n",
    "    filter(t <= 48) %>%\n",
    "    mutate(fecha=dmy(\"27-03-2009\") + days(t), Datos=\"Simulados\") %>%\n",
    "    select(-t)\n",
    "\n",
    "\n",
    "# Datos unificados\n",
    "df = rbind(original, simulated)\n"
   ]
  },
  {
   "cell_type": "code",
   "execution_count": 3,
   "metadata": {},
   "outputs": [
    {
     "data": {
      "text/html": [
       "<strong>png:</strong> 2"
      ],
      "text/latex": [
       "\\textbf{png:} 2"
      ],
      "text/markdown": [
       "**png:** 2"
      ],
      "text/plain": [
       "png \n",
       "  2 "
      ]
     },
     "metadata": {},
     "output_type": "display_data"
    },
    {
     "data": {
      "image/png": "[encoded data removed]",
      "text/plain": [
       "plot without title"
      ]
     },
     "metadata": {},
     "output_type": "display_data"
    }
   ],
   "source": [
    "# Generación de figuras\n",
    "options(repr.plot.width=6, repr.plot.height=3.5)\n",
    "\n",
    "g = ggplot(df, aes(x=fecha, y=I, color=Datos)) + \n",
    "    geom_point() + xlab(\"Fecha\") + ylab(\"Casos confirmados\")\n",
    "\n",
    "g\n",
    "\n",
    "tikz(file = \"figures/comparacion.tex\", width = 6, height = 3.5)\n",
    "g\n",
    "dev.off()\n"
   ]
  }
 ],
 "metadata": {
  "kernelspec": {
   "display_name": "R",
   "language": "R",
   "name": "ir"
  },
  "language_info": {
   "codemirror_mode": "r",
   "file_extension": ".r",
   "mimetype": "text/x-r-source",
   "name": "R",
   "pygments_lexer": "r",
   "version": "3.5.3"
  }
 },
 "nbformat": 4,
 "nbformat_minor": 4
}
