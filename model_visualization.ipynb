{
 "cells": [
  {
   "cell_type": "markdown",
   "metadata": {},
   "source": [
    "## Visualización de predicción del modelo final"
   ]
  },
  {
   "cell_type": "markdown",
   "metadata": {},
   "source": [
    "- [Jorge Esteban Mendoza Ortiz](mailto:esteban.mendoza@ciencias.unam.mx) (418002863)\n",
    "\n",
    "- [Enrique Moctezuma González](mailto:enriquemg@ciencias.unam.mx) (315019344)\n",
    "\n",
    "- [Ana Victoria López Rodríguez](mailto:anaviclopez@ciencias.unam.mx) (314614300) "
   ]
  },
  {
   "cell_type": "code",
   "execution_count": 57,
   "metadata": {
    "collapsed": true,
    "jupyter": {
     "outputs_hidden": true
    }
   },
   "outputs": [
    {
     "name": "stderr",
     "output_type": "stream",
     "text": [
      "Loading required package: tikzDevice\n"
     ]
    }
   ],
   "source": [
    "require(tidyverse)\n",
    "require(lubridate)\n",
    "require(repr)\n",
    "require(tikzDevice)"
   ]
  },
  {
   "cell_type": "code",
   "execution_count": 66,
   "metadata": {},
   "outputs": [],
   "source": [
    "# Carga y formato de datos\n",
    "data = read.csv(\"data/infectados.csv\", stringsAsFactors = FALSE) %>%\n",
    "    mutate(fecha = dmy(fecha))\n",
    "\n",
    "original = data %>%\n",
    "    filter(fecha <= dmy(\"14-05-2009\")) %>%\n",
    "    mutate(Datos=\"Originales\")\n",
    "\n",
    "\n",
    "data_sim = read.csv(\"data/simulated_SIR.csv\")\n",
    "names(data_sim) = c(\"t\", \"S\", \"I\", \"R\")\n",
    "\n",
    "simulated = data_sim %>%\n",
    "    select(t, I) %>%\n",
    "    filter(t <= 48) %>%\n",
    "    mutate(fecha=dmy(\"27-03-2009\") + days(t), Datos=\"Simulados\") %>%\n",
    "    select(-t)\n",
    "\n",
    "\n",
    "# Datos unificados\n",
    "df = rbind(original, simulated)\n"
   ]
  },
  {
   "cell_type": "code",
   "execution_count": 68,
   "metadata": {},
   "outputs": [
    {
     "data": {
      "text/html": [
       "<strong>png:</strong> 2"
      ],
      "text/latex": [
       "\\textbf{png:} 2"
      ],
      "text/markdown": [
       "**png:** 2"
      ],
      "text/plain": [
       "png \n",
       "  2 "
      ]
     },
     "metadata": {},
     "output_type": "display_data"
    },
    {
     "data": {
      "image/png": "[encoded data removed]",
      "text/plain": [
       "plot without title"
      ]
     },
     "metadata": {},
     "output_type": "display_data"
    }
   ],
   "source": [
    "# Generación de figuras\n",
    "options(repr.plot.width=6, repr.plot.height=4)\n",
    "\n",
    "g = ggplot(df, aes(x=fecha, y=I, color=Datos)) + \n",
    "    geom_point() + xlab(\"Fecha\") + ylab(\"Casos confirmados\")\n",
    "\n",
    "g\n",
    "\n",
    "tikz(file = \"figures/comparacion.tex\", width = 6, height = 3.75)\n",
    "g\n",
    "dev.off()\n"
   ]
  }
 ],
 "metadata": {
  "kernelspec": {
   "display_name": "R",
   "language": "R",
   "name": "ir"
  },
  "language_info": {
   "codemirror_mode": "r",
   "file_extension": ".r",
   "mimetype": "text/x-r-source",
   "name": "R",
   "pygments_lexer": "r",
   "version": "3.5.3"
  }
 },
 "nbformat": 4,
 "nbformat_minor": 4
}
