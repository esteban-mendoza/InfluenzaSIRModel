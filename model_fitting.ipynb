{
 "cells": [
  {
   "cell_type": "markdown",
   "metadata": {},
   "source": [
    "# Medición de la eficacia de las medidas profilácticas aplicadas ante la epidemia de influenza A/H1N1 en México durante la primavera del 2009"
   ]
  },
  {
   "cell_type": "markdown",
   "metadata": {},
   "source": [
    "- [Jorge Esteban Mendoza Ortiz](mailto:esteban.mendoza@ciencias.unam.mx) (418002863)\n",
    "\n",
    "- [Enrique Moctezuma González](mailto:enriquemg@ciencias.unam.mx) (315019344)\n",
    "\n",
    "- [Ana Victoria López Rodríguez](mailto:anaviclopez@ciencias.unam.mx) (314614300) "
   ]
  },
  {
   "cell_type": "markdown",
   "metadata": {},
   "source": [
    "### 1. Librerías y carga de datos"
   ]
  },
  {
   "cell_type": "code",
   "execution_count": 1,
   "metadata": {
    "collapsed": true,
    "jupyter": {
     "outputs_hidden": true
    }
   },
   "outputs": [
    {
     "name": "stderr",
     "output_type": "stream",
     "text": [
      "-- \u001b[1mAttaching packages\u001b[22m --------------------------------------- tidyverse 1.2.1 --\n",
      "\u001b[32mv\u001b[39m \u001b[34mggplot2\u001b[39m 3.2.0     \u001b[32mv\u001b[39m \u001b[34mpurrr  \u001b[39m 0.3.2\n",
      "\u001b[32mv\u001b[39m \u001b[34mtibble \u001b[39m 2.1.3     \u001b[32mv\u001b[39m \u001b[34mdplyr  \u001b[39m 0.8.3\n",
      "\u001b[32mv\u001b[39m \u001b[34mtidyr  \u001b[39m 0.8.3     \u001b[32mv\u001b[39m \u001b[34mstringr\u001b[39m 1.4.0\n",
      "\u001b[32mv\u001b[39m \u001b[34mreadr  \u001b[39m 1.3.1     \u001b[32mv\u001b[39m \u001b[34mforcats\u001b[39m 0.4.0\n",
      "-- \u001b[1mConflicts\u001b[22m ------------------------------------------ tidyverse_conflicts() --\n",
      "\u001b[31mx\u001b[39m \u001b[34mdplyr\u001b[39m::\u001b[32mfilter()\u001b[39m masks \u001b[34mstats\u001b[39m::filter()\n",
      "\u001b[31mx\u001b[39m \u001b[34mdplyr\u001b[39m::\u001b[32mlag()\u001b[39m    masks \u001b[34mstats\u001b[39m::lag()\n",
      "\n",
      "Attaching package: 'lubridate'\n",
      "\n",
      "The following object is masked from 'package:base':\n",
      "\n",
      "    date\n",
      "\n"
     ]
    }
   ],
   "source": [
    "suppressMessages(require(tidyverse))\n",
    "suppressMessages(require(lubridate))"
   ]
  },
  {
   "cell_type": "code",
   "execution_count": 2,
   "metadata": {},
   "outputs": [],
   "source": [
    "data = read.csv(\"infectados.csv\", stringsAsFactors = FALSE) %>%\n",
    "    mutate(fecha = dmy(fecha))"
   ]
  },
  {
   "cell_type": "markdown",
   "metadata": {},
   "source": [
    "### 4. Propuesta de $S_0$"
   ]
  },
  {
   "cell_type": "code",
   "execution_count": null,
   "metadata": {},
   "outputs": [],
   "source": [
    "d05 = dmy(\"29-08-2005\")\n",
    "d09 = dmy(\"27-03-2009\")\n",
    "d10 = dmy(\"25-06-2010\")\n",
    "\n",
    "p05 = 103263388\n",
    "p10 = 112336538\n",
    "\n",
    "r = 100 * ( (p10 / p05)^(1 / as.integer(d10 - d05)) - 1 )\n",
    "S_0 = p05 * (1 + r/100)^(as.integer(d09 - d05))"
   ]
  },
  {
   "cell_type": "code",
   "execution_count": 12,
   "metadata": {},
   "outputs": [
    {
     "name": "stdout",
     "output_type": "stream",
     "text": [
      "[1] 109918558\n"
     ]
    }
   ],
   "source": [
    "S_0 = 109918558\n",
    "print(S_0)"
   ]
  },
  {
   "cell_type": "markdown",
   "metadata": {},
   "source": [
    "### 2. Subestimación de $\\beta_0$ e $I_0$"
   ]
  },
  {
   "cell_type": "code",
   "execution_count": 3,
   "metadata": {},
   "outputs": [],
   "source": [
    "I = filter(data, fecha <= dmy(\"26-04-2009\"))[,\"I\"]\n",
    "t = 0:(length(I)-1)\n",
    "Y = log(I)\n",
    "\n",
    "model = lm(Y ~ t)\n",
    "\n",
    "C = coef(model)\n",
    "\n",
    "I_0 = exp(unname(C[1]))\n",
    "beta_0 = unname(C[2])"
   ]
  },
  {
   "cell_type": "markdown",
   "metadata": {},
   "source": [
    "Función hipótesis $h(t) = I_0 \\exp(\\beta_0 t)$"
   ]
  },
  {
   "cell_type": "code",
   "execution_count": 5,
   "metadata": {},
   "outputs": [],
   "source": [
    "h = function(t) {\n",
    "    return(I_0 * exp(beta_0 * t))\n",
    "}"
   ]
  },
  {
   "cell_type": "markdown",
   "metadata": {},
   "source": [
    "### 3. Estimación de $\\beta_0$ e $I_0$"
   ]
  },
  {
   "cell_type": "markdown",
   "metadata": {},
   "source": [
    "Función de costo:"
   ]
  },
  {
   "cell_type": "code",
   "execution_count": 7,
   "metadata": {},
   "outputs": [],
   "source": [
    "J_0 = function() {\n",
    "    return(mean((I - h(t))^2)/2)\n",
    "}"
   ]
  },
  {
   "cell_type": "markdown",
   "metadata": {},
   "source": [
    "Funciones de cálculo de gradiente en parámetros actuales:"
   ]
  },
  {
   "cell_type": "code",
   "execution_count": 8,
   "metadata": {},
   "outputs": [],
   "source": [
    "JI_0 = function() {\n",
    "    return(mean((I - h(t))*(-exp(beta_0*t))))\n",
    "}\n",
    "\n",
    "Jbeta_0 = function() {\n",
    "    return(mean((I - h(t))*(-I_0*t*exp(beta_0*t))))\n",
    "}"
   ]
  },
  {
   "cell_type": "markdown",
   "metadata": {},
   "source": [
    "Iteraciones de descenso de gradiente:"
   ]
  },
  {
   "cell_type": "code",
   "execution_count": 9,
   "metadata": {},
   "outputs": [],
   "source": [
    "iters = 201000\n",
    "alpha = 0.0000001\n",
    "\n",
    "# Historiales de I_0, beta_0 y costo\n",
    "cost_0 = c(J_0())\n",
    "\n",
    "tempI_0 = c(I_0)\n",
    "tempBeta_0 = c(beta_0)\n",
    "\n",
    "# Iteraciones\n",
    "for (i in 2:iters) {\n",
    "    tempI_0 = c(tempI_0, I_0 - alpha*JI_0())\n",
    "    tempBeta_0 = c(tempBeta_0, beta_0 - alpha*Jbeta_0())\n",
    "    \n",
    "    I_0 = tempI_0[i]\n",
    "    beta_0 = tempBeta_0[i]\n",
    "    \n",
    "    cost_0 = c(cost_0, J_0())\n",
    "}\n",
    "\n",
    "# Elección de parámetros que generan el menor costo\n",
    "I_0 = tempI_0[which.min(cost_0)]\n",
    "beta_0 = tempBeta_0[which.min(cost_0)]"
   ]
  },
  {
   "cell_type": "markdown",
   "metadata": {},
   "source": [
    "Visualización de función hipótesis $h$ con parámetros que generan menor costo."
   ]
  },
  {
   "cell_type": "code",
   "execution_count": 10,
   "metadata": {
    "collapsed": true,
    "jupyter": {
     "outputs_hidden": true
    }
   },
   "outputs": [
    {
     "name": "stdout",
     "output_type": "stream",
     "text": [
      "[1] 0.2173231 0.2516953\n"
     ]
    },
    {
     "data": {
      "image/png": "[encoded data removed]",
      "text/plain": [
       "plot without title"
      ]
     },
     "metadata": {},
     "output_type": "display_data"
    }
   ],
   "source": [
    "# I_0 = 0.2173231; beta_0 = 0.2516953\n",
    "print(c(I_0, beta_0)) \n",
    "\n",
    "plot(t, I, pch=19)\n",
    "lines(t, h(t), col=\"red\")"
   ]
  },
  {
   "cell_type": "markdown",
   "metadata": {},
   "source": [
    "### 5. Estimación de $\\mu$, $\\kappa_0$ y $R_0$"
   ]
  },
  {
   "cell_type": "code",
   "execution_count": 13,
   "metadata": {},
   "outputs": [],
   "source": [
    "mu = 1 / 3\n",
    "\n",
    "kappa_0 = (beta_0 + mu) / S_0 \n",
    "R_0 = beta_0 / mu + 1"
   ]
  },
  {
   "cell_type": "code",
   "execution_count": 16,
   "metadata": {},
   "outputs": [
    {
     "name": "stdout",
     "output_type": "stream",
     "text": [
      "[1] 5.322383e-09 1.755086e+00\n"
     ]
    }
   ],
   "source": [
    "kappa_0 = 5.322383e-09; R_0 = 1.755086e+00\n",
    "print(c(kappa_0, R_0))"
   ]
  },
  {
   "cell_type": "markdown",
   "metadata": {},
   "source": [
    "### 6. Subestimación de $\\beta_1$ e $I_1$"
   ]
  },
  {
   "cell_type": "code",
   "execution_count": 18,
   "metadata": {},
   "outputs": [],
   "source": [
    "I_ = filter(data, dmy(\"27-04-2009\") <= fecha, fecha <= dmy(\"14-05-2009\"))[,\"I\"]\n",
    "t_ = 0:(length(I_)-1)\n",
    "Y_ = log(I_)\n",
    "\n",
    "model_ = lm(Y_ ~ t_)\n",
    "\n",
    "C_ = coef(model_)\n",
    "\n",
    "I_1 = exp(unname(C_[1]))\n",
    "beta_1 = unname(C_[2])"
   ]
  },
  {
   "cell_type": "markdown",
   "metadata": {},
   "source": [
    "Función hipótesis $g(t) = I_1 \\exp(\\beta_1 t)$"
   ]
  },
  {
   "cell_type": "code",
   "execution_count": 19,
   "metadata": {},
   "outputs": [],
   "source": [
    "g = function(t) {\n",
    "    return(I_1 * exp(beta_1 * t))\n",
    "}"
   ]
  },
  {
   "cell_type": "markdown",
   "metadata": {},
   "source": [
    "### 7. Estimación de $\\beta_1$ e $I_1$"
   ]
  },
  {
   "cell_type": "markdown",
   "metadata": {},
   "source": [
    "Función de costo:"
   ]
  },
  {
   "cell_type": "code",
   "execution_count": 20,
   "metadata": {},
   "outputs": [],
   "source": [
    "J_1 = function() {\n",
    "    return(mean((I_ - g(t_))^2)/2)\n",
    "}"
   ]
  },
  {
   "cell_type": "markdown",
   "metadata": {},
   "source": [
    "Funciones de cálculo de gradiente en parámetros actuales:"
   ]
  },
  {
   "cell_type": "code",
   "execution_count": 21,
   "metadata": {},
   "outputs": [],
   "source": [
    "JI_1 = function() {\n",
    "    return(mean((I_ - g(t_))*(-exp(beta_1*t_))))\n",
    "}\n",
    "\n",
    "Jbeta_1 = function() {\n",
    "    return(mean((I_ - g(t_))*(-I_1*t_*exp(beta_1*t_))))\n",
    "}"
   ]
  },
  {
   "cell_type": "markdown",
   "metadata": {},
   "source": [
    "Iteraciones de descenso de gradiente:"
   ]
  },
  {
   "cell_type": "code",
   "execution_count": null,
   "metadata": {},
   "outputs": [],
   "source": [
    "iters = 3e5\n",
    "alpha_ = 0.0000001\n",
    "\n",
    "# Historiales de I_1, beta_1 y costo\n",
    "cost_1 = c(J_1())\n",
    "\n",
    "tempI_1 = c(I_1)\n",
    "tempBeta_1 = c(beta_1)\n",
    "\n",
    "# Iteraciones\n",
    "for (i in 2:iters) {\n",
    "    tempI_1 = c(tempI_1, I_1 - alpha_*JI_1())\n",
    "    tempBeta_1 = c(tempBeta_1, beta_1 - alpha_*Jbeta_1())\n",
    "    \n",
    "    I_1 = tempI_1[i]\n",
    "    beta_1 = tempBeta_1[i]\n",
    "    \n",
    "    cost_1 = c(cost_1, J_1())\n",
    "}\n",
    "\n",
    "# Elección de iteraciones de menor costo\n",
    "I_1 = tempI_1[which.min(cost_1)]\n",
    "beta_1 = tempBeta_1[which.min(cost_1)]"
   ]
  },
  {
   "cell_type": "markdown",
   "metadata": {},
   "source": [
    "Visualización de función hipótesis $g$ con parámetros que generan menor costo."
   ]
  },
  {
   "cell_type": "code",
   "execution_count": 22,
   "metadata": {
    "collapsed": true,
    "jupyter": {
     "outputs_hidden": true
    }
   },
   "outputs": [
    {
     "name": "stdout",
     "output_type": "stream",
     "text": [
      "[1] 321.81661488  -0.06198531\n"
     ]
    },
    {
     "data": {
      "image/png": "[encoded data removed]",
      "text/plain": [
       "plot without title"
      ]
     },
     "metadata": {},
     "output_type": "display_data"
    }
   ],
   "source": [
    "I_1 = 321.81661488; beta_1 = -0.06198531\n",
    "print(c(I_1, beta_1))\n",
    "\n",
    "plot(t_, I_, pch=19)\n",
    "lines(t_, g(t_), col=\"blue\")"
   ]
  },
  {
   "cell_type": "markdown",
   "metadata": {},
   "source": [
    "### 8. Estimación de $\\kappa_1$ y $R_1$"
   ]
  },
  {
   "cell_type": "code",
   "execution_count": 24,
   "metadata": {},
   "outputs": [
    {
     "name": "stdout",
     "output_type": "stream",
     "text": [
      "[1] 2.468628e-09 8.140441e-01\n"
     ]
    }
   ],
   "source": [
    "# Estimación de kappa_ y R_0_\n",
    "kappa_1 = (beta_1 + mu) / S_0\n",
    "R_1 = beta_1 / mu + 1\n",
    "\n",
    "print(c(kappa_1, R_1))"
   ]
  }
 ],
 "metadata": {
  "kernelspec": {
   "display_name": "R",
   "language": "R",
   "name": "ir"
  },
  "language_info": {
   "codemirror_mode": "r",
   "file_extension": ".r",
   "mimetype": "text/x-r-source",
   "name": "R",
   "pygments_lexer": "r",
   "version": "3.5.3"
  }
 },
 "nbformat": 4,
 "nbformat_minor": 4
}
